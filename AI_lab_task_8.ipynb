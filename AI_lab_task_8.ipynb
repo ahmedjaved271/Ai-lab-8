{
  "nbformat": 4,
  "nbformat_minor": 0,
  "metadata": {
    "colab": {
      "provenance": []
    },
    "kernelspec": {
      "name": "python3",
      "display_name": "Python 3"
    },
    "language_info": {
      "name": "python"
    }
  },
  "cells": [
    {
      "cell_type": "code",
      "execution_count": 3,
      "metadata": {
        "colab": {
          "base_uri": "https://localhost:8080/"
        },
        "id": "Wra3y7M3x4pb",
        "outputId": "46971572-eacd-4328-a654-411c71838747"
      },
      "outputs": [
        {
          "output_type": "stream",
          "name": "stdout",
          "text": [
            "Best move for X is: 7\n"
          ]
        }
      ],
      "source": [
        "# Min Max Algorithm\n",
        "def minimax(board, depth, is_maximizing):\n",
        "    if check_winner(board) == \"X\":\n",
        "        return 10\n",
        "    elif check_winner(board) == \"O\":\n",
        "        return -10\n",
        "    elif is_draw(board):\n",
        "        return 0\n",
        "\n",
        "    if is_maximizing:\n",
        "        best_score = -float('inf')\n",
        "        for move in get_available_moves(board):\n",
        "            board[move] = \"X\"\n",
        "            score = minimax(board, depth + 1, False)\n",
        "            board[move] = \"-\"\n",
        "            best_score = max(best_score, score)\n",
        "        return best_score\n",
        "    else:\n",
        "        best_score = float('inf')\n",
        "        for move in get_available_moves(board):\n",
        "            board[move] = \"O\"\n",
        "            score = minimax(board, depth + 1, True)\n",
        "            board[move] = \"-\"\n",
        "            best_score = min(best_score, score)\n",
        "        return best_score\n",
        "\n",
        "def check_winner(board):\n",
        "    winning_combinations = [(0, 1, 2), (3, 4, 5), (6, 7, 8),\n",
        "                            (0, 3, 6), (1, 4, 7), (2, 5, 8),\n",
        "                            (0, 4, 8), (2, 4, 6)]\n",
        "    for x, y, z in winning_combinations:\n",
        "        if board[x] == board[y] == board[z] and board[x] != \"-\":\n",
        "            return board[x]\n",
        "    return None\n",
        "\n",
        "def is_draw(board):\n",
        "    return \"-\" not in board\n",
        "\n",
        "def get_available_moves(board):\n",
        "    return [i for i, cell in enumerate(board) if cell == \"-\"]\n",
        "\n",
        "board = [\"X\", \"O\", \"X\",\n",
        "         \"-\", \"O\", \"-\",\n",
        "         \"-\", \"-\", \"-\"]\n",
        "\n",
        "best_move = None\n",
        "best_score = -float('inf')\n",
        "\n",
        "for move in get_available_moves(board):\n",
        "    board[move] = \"X\"\n",
        "    score = minimax(board, 0, False)\n",
        "    board[move] = \"-\"\n",
        "    if score > best_score:\n",
        "        best_score = score\n",
        "        best_move = move\n",
        "\n",
        "print(\"Best move for X is:\", best_move)\n"
      ]
    },
    {
      "cell_type": "code",
      "source": [],
      "metadata": {
        "id": "Q7nRWsLf5F_g"
      },
      "execution_count": null,
      "outputs": []
    }
  ]
}